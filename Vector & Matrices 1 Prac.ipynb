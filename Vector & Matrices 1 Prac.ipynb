{
 "cells": [
  {
   "cell_type": "code",
   "execution_count": 2,
   "id": "b2e37117",
   "metadata": {},
   "outputs": [],
   "source": [
    "import pandas as pd\n",
    "import numpy as np"
   ]
  },
  {
   "cell_type": "markdown",
   "id": "f7c908d2",
   "metadata": {},
   "source": [
    "Vector and matrices"
   ]
  },
  {
   "cell_type": "code",
   "execution_count": 3,
   "id": "3a968b56",
   "metadata": {},
   "outputs": [
    {
     "data": {
      "text/plain": [
       "array([[1, 2, 3],\n",
       "       [3, 2, 1]])"
      ]
     },
     "execution_count": 3,
     "metadata": {},
     "output_type": "execute_result"
    }
   ],
   "source": [
    "from numpy import array \n",
    "m = array([[1,2,3] , [3,2,1]])\n",
    "m"
   ]
  },
  {
   "cell_type": "code",
   "execution_count": 4,
   "id": "363a56af",
   "metadata": {},
   "outputs": [
    {
     "name": "stdout",
     "output_type": "stream",
     "text": [
      "[[3 5 7]\n",
      " [4 4 7]]\n"
     ]
    }
   ],
   "source": [
    "# addition\n",
    "A = array([[1,2,3] , [2,3,4]])\n",
    "B = array([[2,3,4], [2,1,3]])\n",
    "print(A+B)"
   ]
  },
  {
   "cell_type": "code",
   "execution_count": 5,
   "id": "47029ea8",
   "metadata": {},
   "outputs": [
    {
     "data": {
      "text/plain": [
       "array([[-1, -1, -1],\n",
       "       [ 0,  2,  1]])"
      ]
     },
     "execution_count": 5,
     "metadata": {},
     "output_type": "execute_result"
    }
   ],
   "source": [
    "# subtraction\n",
    "A-B"
   ]
  },
  {
   "cell_type": "code",
   "execution_count": 6,
   "id": "1c9565e7",
   "metadata": {},
   "outputs": [
    {
     "data": {
      "text/plain": [
       "array([[ 2,  6, 12],\n",
       "       [ 4,  3, 12]])"
      ]
     },
     "execution_count": 6,
     "metadata": {},
     "output_type": "execute_result"
    }
   ],
   "source": [
    "# multiplication\n",
    "(A*B)"
   ]
  },
  {
   "cell_type": "code",
   "execution_count": 7,
   "id": "ad1fecc8",
   "metadata": {},
   "outputs": [
    {
     "data": {
      "text/plain": [
       "array([[0.5       , 0.66666667, 0.75      ],\n",
       "       [1.        , 3.        , 1.33333333]])"
      ]
     },
     "execution_count": 7,
     "metadata": {},
     "output_type": "execute_result"
    }
   ],
   "source": [
    "# division\n",
    "(A/B)"
   ]
  },
  {
   "cell_type": "code",
   "execution_count": 9,
   "id": "d41fc255",
   "metadata": {},
   "outputs": [
    {
     "data": {
      "text/plain": [
       "array([['mon', '13', '21', '13', '14'],\n",
       "       ['tue', '12', '32', '4', '5'],\n",
       "       ['wed', '21', '45', '6', '3'],\n",
       "       ['thu', '2', '4', '5', '6'],\n",
       "       ['fri', '3', '1', '2', '4'],\n",
       "       ['sat', '2', '4', '2', '5'],\n",
       "       ['sun', '3', '5', '6', '7']], dtype='<U11')"
      ]
     },
     "execution_count": 9,
     "metadata": {},
     "output_type": "execute_result"
    }
   ],
   "source": [
    "from numpy import *\n",
    "a = array([['mon' , 13 ,21,13,14],\n",
    "           [ 'tue' , 12, 32, 4 ,5],\n",
    "           [ 'wed' , 21,45,6,3],\n",
    "           ['thu' , 2,4,5,6 ],\n",
    "           ['fri', 3,1,2,4],\n",
    "           [ 'sat', 2,4,2,5],\n",
    "           [ 'sun' , 3,5,6,7]])\n",
    "a"
   ]
  },
  {
   "cell_type": "code",
   "execution_count": 11,
   "id": "07df1819",
   "metadata": {},
   "outputs": [
    {
     "name": "stdout",
     "output_type": "stream",
     "text": [
      "['thu' '2' '4' '5' '6']\n"
     ]
    }
   ],
   "source": [
    "# data for thuresday\n",
    "print(a[3])"
   ]
  },
  {
   "cell_type": "code",
   "execution_count": 12,
   "id": "aa3c973a",
   "metadata": {},
   "outputs": [
    {
     "name": "stdout",
     "output_type": "stream",
     "text": [
      "6\n"
     ]
    }
   ],
   "source": [
    "# data for 3 row and 4 col\n",
    "print(a[3,4])"
   ]
  },
  {
   "cell_type": "code",
   "execution_count": 19,
   "id": "cc605f17",
   "metadata": {},
   "outputs": [
    {
     "name": "stdout",
     "output_type": "stream",
     "text": [
      "[['mon' '13' '21' '13' '14']\n",
      " ['tue' '12' '32' '4' '5']\n",
      " ['wed' '21' '45' '6' '3']\n",
      " ['thu' '2' '4' '5' '6']\n",
      " ['fri' '3' '1' '2' '4']\n",
      " ['sat' '2' '4' '2' '5']\n",
      " ['sun' '3' '5' '6' '7']\n",
      " ['avg' '4' '3' '2' '1']]\n"
     ]
    }
   ],
   "source": [
    "from numpy import *\n",
    "a = array([['mon' , 13 ,21,13,14],\n",
    "           [ 'tue', 12, 32, 4 ,5],\n",
    "           [ 'wed' , 21,45,6,3],\n",
    "           ['thu' , 2,4,5,6 ],\n",
    "           ['fri', 3,1,2,4],\n",
    "           [ 'sat', 2,4,2,5],\n",
    "           [ 'sun', 3,5,6,7]])\n",
    "new = append(a, [['avg', 4,3,2,1]],0)\n",
    "print(new)"
   ]
  },
  {
   "cell_type": "code",
   "execution_count": 29,
   "id": "318f2451",
   "metadata": {},
   "outputs": [],
   "source": [
    "new1 = insert(new,[3],[[1],[3],[7],[2],[3],[4],[5],[3]],1)"
   ]
  },
  {
   "cell_type": "code",
   "execution_count": 30,
   "id": "4b7f2e95",
   "metadata": {},
   "outputs": [
    {
     "name": "stdout",
     "output_type": "stream",
     "text": [
      "[['mon' '13' '21' '1' '13' '14']\n",
      " ['tue' '12' '32' '3' '4' '5']\n",
      " ['wed' '21' '45' '7' '6' '3']\n",
      " ['thu' '2' '4' '2' '5' '6']\n",
      " ['fri' '3' '1' '3' '2' '4']\n",
      " ['sat' '2' '4' '4' '2' '5']\n",
      " ['sun' '3' '5' '5' '6' '7']\n",
      " ['avg' '4' '3' '3' '2' '1']]\n"
     ]
    }
   ],
   "source": [
    "print(new1)"
   ]
  },
  {
   "cell_type": "code",
   "execution_count": null,
   "id": "0e61bc9b",
   "metadata": {},
   "outputs": [],
   "source": []
  }
 ],
 "metadata": {
  "kernelspec": {
   "display_name": "Python 3 (ipykernel)",
   "language": "python",
   "name": "python3"
  },
  "language_info": {
   "codemirror_mode": {
    "name": "ipython",
    "version": 3
   },
   "file_extension": ".py",
   "mimetype": "text/x-python",
   "name": "python",
   "nbconvert_exporter": "python",
   "pygments_lexer": "ipython3",
   "version": "3.9.7"
  }
 },
 "nbformat": 4,
 "nbformat_minor": 5
}
